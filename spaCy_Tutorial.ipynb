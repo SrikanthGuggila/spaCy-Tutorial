{
  "nbformat": 4,
  "nbformat_minor": 0,
  "metadata": {
    "colab": {
      "name": "spaCy Tutorial.ipynb",
      "provenance": [],
      "collapsed_sections": [],
      "authorship_tag": "ABX9TyNxeKs9KSQB+DDP4fT+BC2L",
      "include_colab_link": true
    },
    "kernelspec": {
      "name": "python3",
      "display_name": "Python 3"
    },
    "language_info": {
      "name": "python"
    }
  },
  "cells": [
    {
      "cell_type": "markdown",
      "metadata": {
        "id": "view-in-github",
        "colab_type": "text"
      },
      "source": [
        "<a href=\"https://colab.research.google.com/github/SrikanthGuggila/spaCy-Tutorial/blob/main/spaCy_Tutorial.ipynb\" target=\"_parent\"><img src=\"https://colab.research.google.com/assets/colab-badge.svg\" alt=\"Open In Colab\"/></a>"
      ]
    },
    {
      "cell_type": "markdown",
      "metadata": {
        "id": "aJsQbQmAbE8E"
      },
      "source": [
        "Spacy is most popular library for advanced NLP"
      ]
    },
    {
      "cell_type": "code",
      "metadata": {
        "id": "LBXLy3Kkckni"
      },
      "source": [
        "!pip install spacy"
      ],
      "execution_count": null,
      "outputs": []
    },
    {
      "cell_type": "markdown",
      "metadata": {
        "id": "4xK0Vv_CcJq5"
      },
      "source": [
        "**The nlp Object**"
      ]
    },
    {
      "cell_type": "markdown",
      "metadata": {
        "id": "ya_kPdg6cXao"
      },
      "source": [
        "contains the processing pipeline\n",
        "includes language-specific rules for tokenization etc"
      ]
    },
    {
      "cell_type": "code",
      "metadata": {
        "colab": {
          "base_uri": "https://localhost:8080/"
        },
        "id": "SXYfdAgDafGZ",
        "outputId": "40adbddf-6af1-4afa-d6ef-8d47a82bc909"
      },
      "source": [
        "from spacy.lang.en import English\n",
        "nlp = English()\n",
        "nlp"
      ],
      "execution_count": null,
      "outputs": [
        {
          "output_type": "execute_result",
          "data": {
            "text/plain": [
              "<spacy.lang.en.English at 0x7f30d73f9f10>"
            ]
          },
          "metadata": {
            "tags": []
          },
          "execution_count": 2
        }
      ]
    },
    {
      "cell_type": "markdown",
      "metadata": {
        "id": "FzRJLJz5dBsS"
      },
      "source": [
        "**The DOC object**"
      ]
    },
    {
      "cell_type": "code",
      "metadata": {
        "colab": {
          "base_uri": "https://localhost:8080/"
        },
        "id": "PTdsIulzcTHR",
        "outputId": "dddc1113-2e77-478d-e1f2-a63bc43dffcc"
      },
      "source": [
        "doc = nlp(\"Hello NLP, I'm learning you\")\n",
        "for token in doc:\n",
        "  print(token.text)"
      ],
      "execution_count": null,
      "outputs": [
        {
          "output_type": "stream",
          "text": [
            "Hello\n",
            "NLP\n",
            ",\n",
            "I\n",
            "'m\n",
            "learning\n",
            "you\n"
          ],
          "name": "stdout"
        }
      ]
    },
    {
      "cell_type": "code",
      "metadata": {
        "colab": {
          "base_uri": "https://localhost:8080/"
        },
        "id": "BkD_1g0RdQLj",
        "outputId": "a4d3e9ba-e64f-456b-8c16-bfc16fbc2df4"
      },
      "source": [
        "for i in range(len(doc)):\n",
        "  print(doc[i].text)"
      ],
      "execution_count": null,
      "outputs": [
        {
          "output_type": "stream",
          "text": [
            "Hello\n",
            "NLP\n",
            ",\n",
            "I\n",
            "'m\n",
            "learning\n",
            "you\n"
          ],
          "name": "stdout"
        }
      ]
    },
    {
      "cell_type": "code",
      "metadata": {
        "colab": {
          "base_uri": "https://localhost:8080/"
        },
        "id": "eV4V1SRxdfUq",
        "outputId": "ee8671ca-fd74-4b6f-f988-07528f44471e"
      },
      "source": [
        "span = doc[3:]\n",
        "print(span.text)"
      ],
      "execution_count": null,
      "outputs": [
        {
          "output_type": "stream",
          "text": [
            "I'm learning you\n"
          ],
          "name": "stdout"
        }
      ]
    },
    {
      "cell_type": "code",
      "metadata": {
        "colab": {
          "base_uri": "https://localhost:8080/"
        },
        "id": "WGFoxObPea8p",
        "outputId": "9eb2f533-fa16-4903-a612-c31726aa85d3"
      },
      "source": [
        "doc = nlp(\"Hello NLP, I'm learning you, it costs $4000\")\n",
        "print(\"Index: \", [token.i for token in doc])\n",
        "print(\"Text \",[token.text for token in doc])\n",
        "\n",
        "print(\"is_alpha:\", [token.is_alpha for token in doc])\n",
        "print(\"is_puct\", [token.is_punct for token in doc])\n",
        "print(\"like_num\", [token.like_num for token in doc])"
      ],
      "execution_count": null,
      "outputs": [
        {
          "output_type": "stream",
          "text": [
            "Index:  [0, 1, 2, 3, 4, 5, 6, 7, 8, 9, 10, 11]\n",
            "Text  ['Hello', 'NLP', ',', 'I', \"'m\", 'learning', 'you', ',', 'it', 'costs', '$', '4000']\n",
            "is_alpha: [True, True, False, True, False, True, True, False, True, True, False, False]\n",
            "is_puct [False, False, True, False, False, False, False, True, False, False, False, False]\n",
            "like_num [False, False, False, False, False, False, False, False, False, False, False, True]\n"
          ],
          "name": "stdout"
        }
      ]
    },
    {
      "cell_type": "markdown",
      "metadata": {
        "id": "eQzffqKIhPhy"
      },
      "source": [
        "**Lexical Attributes**"
      ]
    },
    {
      "cell_type": "code",
      "metadata": {
        "colab": {
          "base_uri": "https://localhost:8080/"
        },
        "id": "GgltFTCwfjfw",
        "outputId": "23cf02e3-3de5-4f8f-c73d-c079cc739609"
      },
      "source": [
        "doc = nlp(\"In 1990, more than 60% of people in East Asia were in extreme poverty. \"\n",
        "    \"Now less than 4% are.\")\n",
        "\n",
        "for token in doc:\n",
        "  if token.like_num:\n",
        "    next_token = doc[token.i+1]\n",
        "    if next_token.text == \"%\":\n",
        "      print(\"Percentage Found: \", token.text,\"%\")"
      ],
      "execution_count": null,
      "outputs": [
        {
          "output_type": "stream",
          "text": [
            "Percentage Found:  60 %\n",
            "Percentage Found:  4 %\n"
          ],
          "name": "stdout"
        }
      ]
    },
    {
      "cell_type": "markdown",
      "metadata": {
        "id": "jNHtxeappNkL"
      },
      "source": [
        "**Statistical Models**"
      ]
    },
    {
      "cell_type": "markdown",
      "metadata": {
        "id": "ikLikgVFpcmM"
      },
      "source": [
        "Some of most intersting things that you want to find out from text. For example wether a word from given string is verb and a span of text is person name"
      ]
    },
    {
      "cell_type": "markdown",
      "metadata": {
        "id": "APfeBd_rp2vG"
      },
      "source": [
        "Statistical models enable spaCy to make predictions correctly"
      ]
    },
    {
      "cell_type": "markdown",
      "metadata": {
        "id": "GJhqg63gslbM"
      },
      "source": [
        "* There are lot of Statistical models available in spaCy\n",
        "\n",
        "* Statistical models enables spaCy to predict\n",
        "  1. Parts of speech tags\n",
        "  2. Syntactical dependencies\n",
        "  3. Named Entities\n",
        "\n",
        "* Trained on labeled example sets\n",
        "* can be updated with more examples to fine tune models"
      ]
    },
    {
      "cell_type": "markdown",
      "metadata": {
        "id": "Te0fVazCt0P1"
      },
      "source": [
        "**Model Packages**"
      ]
    },
    {
      "cell_type": "code",
      "metadata": {
        "id": "oK_ALk5ImDF5"
      },
      "source": [
        "!python -m spacy download en_core_web_sm"
      ],
      "execution_count": null,
      "outputs": []
    },
    {
      "cell_type": "code",
      "metadata": {
        "id": "8bMgw-GJt7Qz"
      },
      "source": [
        "import spacy\n",
        "nlp = spacy.load(\"en_core_web_sm\")"
      ],
      "execution_count": null,
      "outputs": []
    },
    {
      "cell_type": "markdown",
      "metadata": {
        "id": "vIYs2WTuuSsf"
      },
      "source": [
        "The model package includes\n",
        "* Binary weight\n",
        "* Vocabulary\n",
        "* Meta data information (pipeline, language)"
      ]
    },
    {
      "cell_type": "markdown",
      "metadata": {
        "id": "AC3hV77xumWt"
      },
      "source": [
        "**Predicting the Parts of Speech**"
      ]
    },
    {
      "cell_type": "code",
      "metadata": {
        "colab": {
          "base_uri": "https://localhost:8080/"
        },
        "id": "FJ8CIsCsuJvQ",
        "outputId": "a5121cea-6889-4f43-8846-2c4fb0c20bf2"
      },
      "source": [
        "import spacy\n",
        "nlp = spacy.load(\"en_core_web_sm\")\n",
        "doc = nlp(\"I'm Learning NLP\")\n",
        "\n",
        "for token in doc:\n",
        "  print(token.text,\"------------>\",token.pos_)"
      ],
      "execution_count": null,
      "outputs": [
        {
          "output_type": "stream",
          "text": [
            "I ------------> PRON\n",
            "'m ------------> AUX\n",
            "Learning ------------> VERB\n",
            "NLP ------------> PROPN\n"
          ],
          "name": "stdout"
        }
      ]
    },
    {
      "cell_type": "markdown",
      "metadata": {
        "id": "DkSKnov1wsHF"
      },
      "source": [
        "**Predcting the Named Entities**"
      ]
    },
    {
      "cell_type": "code",
      "metadata": {
        "colab": {
          "base_uri": "https://localhost:8080/"
        },
        "id": "zwU05AvWv9sX",
        "outputId": "1abccd3e-7bbb-4e45-e620-75d541afa10a"
      },
      "source": [
        "doc = nlp(\"Apple is looking to buying the U.K based startup for $1 billion dollers\")\n",
        "for ent in doc.ents:\n",
        "  print(ent.text, ent.label_)"
      ],
      "execution_count": null,
      "outputs": [
        {
          "output_type": "stream",
          "text": [
            "Apple ORG\n",
            "U.K ORG\n",
            "$1 billion MONEY\n"
          ],
          "name": "stdout"
        }
      ]
    },
    {
      "cell_type": "markdown",
      "metadata": {
        "id": "ohUCmYifHKk_"
      },
      "source": [
        "**Predicting the Linguistic annotations**"
      ]
    },
    {
      "cell_type": "code",
      "metadata": {
        "id": "ffsWhY9mxnY1",
        "colab": {
          "base_uri": "https://localhost:8080/"
        },
        "outputId": "cc0feb9d-08ed-4f7e-9263-778a03d21918"
      },
      "source": [
        "import spacy\n",
        "\n",
        "nlp = spacy.load(\"en_core_web_sm\")\n",
        "\n",
        "text = \"It’s official: Apple is the first U.S. public company to reach a $1 trillion market value\"\n",
        "\n",
        "# Process the text\n",
        "doc = nlp(text)\n",
        "\n",
        "for token in doc:\n",
        "    # Get the token text, part-of-speech tag and dependency label\n",
        "    token_text = token.text\n",
        "    token_pos = token.pos_\n",
        "    token_dep = token.dep_\n",
        "    # This is for formatting only\n",
        "    print(f\"{token_text:<12}{token_pos:<10}{token_dep:<10}\")"
      ],
      "execution_count": null,
      "outputs": [
        {
          "output_type": "stream",
          "text": [
            "It          PRON      nsubj     \n",
            "’s          VERB      punct     \n",
            "official    NOUN      ccomp     \n",
            ":           PUNCT     punct     \n",
            "Apple       PROPN     nsubj     \n",
            "is          AUX       ROOT      \n",
            "the         DET       det       \n",
            "first       ADJ       amod      \n",
            "U.S.        PROPN     nmod      \n",
            "public      ADJ       amod      \n",
            "company     NOUN      attr      \n",
            "to          PART      aux       \n",
            "reach       VERB      relcl     \n",
            "a           DET       det       \n",
            "$           SYM       quantmod  \n",
            "1           NUM       compound  \n",
            "trillion    NUM       nummod    \n",
            "market      NOUN      compound  \n",
            "value       NOUN      dobj      \n"
          ],
          "name": "stdout"
        }
      ]
    },
    {
      "cell_type": "markdown",
      "metadata": {
        "id": "1IW17krTH0vW"
      },
      "source": [
        "**Predicting the named Entities in the context**"
      ]
    },
    {
      "cell_type": "markdown",
      "metadata": {
        "id": "jMtW9NomIDlx"
      },
      "source": [
        "Models are statistical and not always right. Whether their predictions are correct depends on the training data and the text you’re processing. Let’s take a look at an example.\n",
        "\n",
        "* Process the text with the nlp object.\n",
        "* Iterate over the entities and print the entity text and label.\n",
        "* Looks like the model didn’t predict “iPhone X”. Create a span for those tokens manually."
      ]
    },
    {
      "cell_type": "code",
      "metadata": {
        "colab": {
          "base_uri": "https://localhost:8080/"
        },
        "id": "ZpxyB2OwHQTX",
        "outputId": "4db509b1-6573-47fb-d6c3-c22d7979ccf5"
      },
      "source": [
        "import spacy\n",
        "\n",
        "nlp = spacy.load(\"en_core_web_sm\")\n",
        "\n",
        "text = \"Upcoming iPhone X release date leaked as Apple reveals pre-orders\"\n",
        "\n",
        "# Process the text\n",
        "doc = nlp(text)\n",
        "\n",
        "# Iterate over the entities\n",
        "for ent in doc.ents:\n",
        "    # Print the entity text and label\n",
        "    print(ent.text, ent.label_)\n",
        "\n",
        "# Get the span for \"iPhone X\"\n",
        "iphone_x = doc[1:3]\n",
        "\n",
        "# Print the span text\n",
        "print(\"Missing entity:\", iphone_x.text)"
      ],
      "execution_count": null,
      "outputs": [
        {
          "output_type": "stream",
          "text": [
            "Apple ORG\n",
            "Missing entity: iPhone X\n"
          ],
          "name": "stdout"
        }
      ]
    },
    {
      "cell_type": "markdown",
      "metadata": {
        "id": "qIGqMPVxIN5U"
      },
      "source": [
        "**Rule Based Matching**"
      ]
    },
    {
      "cell_type": "markdown",
      "metadata": {
        "id": "Y08ubX8BKe8G"
      },
      "source": [
        "* Match on doc objects, mot just strings\n",
        "* Match on token and token attributes\n",
        "* Use model's predictions\n",
        "* Example \"duck\" (verb) vs \"duck\" (noun) \n"
      ]
    },
    {
      "cell_type": "markdown",
      "metadata": {
        "id": "0hU2tYTUSHtb"
      },
      "source": [
        "Match patterns are lists of dictionaries. Each dictionary describes one token. The keys are the names of token attributes, mapped to their expected values.\n",
        "\n",
        "In this example, we're looking for two tokens with the text \"iPhone\" and \"X\".\n",
        "\n",
        "We can also match on other token attributes. Here, we're looking for two tokens whose lowercase forms equal \"iphone\" and \"x\".\n",
        "\n",
        "We can even write patterns using attributes predicted by the model. Here, we're matching a token with the lemma \"buy\", plus a noun. The lemma is the base form, so this pattern would match phrases like \"buying milk\" or \"bought flowers\"."
      ]
    },
    {
      "cell_type": "markdown",
      "metadata": {
        "id": "zgh40Sn2SLRC"
      },
      "source": [
        "Lists of dictionaries, one per token\n",
        "\n",
        "* Match exact token texts\n",
        "[{\"TEXT\": \"iPhone\"}, {\"TEXT\": \"X\"}]\n",
        "* Match lexical attributes\n",
        "[{\"LOWER\": \"iphone\"}, {\"LOWER\": \"x\"}]\n",
        "* Match any token attributes\n",
        "[{\"LEMMA\": \"buy\"}, {\"POS\": \"NOUN\"}]"
      ]
    },
    {
      "cell_type": "markdown",
      "metadata": {
        "id": "ATVtecz9RwTr"
      },
      "source": [
        "**Using matcher**"
      ]
    },
    {
      "cell_type": "markdown",
      "metadata": {
        "id": "C0XGJdtSSVTL"
      },
      "source": [
        "To use a pattern, we first import the matcher from spacy.matcher.\n",
        "\n",
        "We also load a model and create the nlp object.\n",
        "\n",
        "The matcher is initialized with the shared vocabulary, nlp.vocab. You'll learn more about this later – for now, just remember to always pass it in.\n",
        "\n",
        "The matcher.add method lets you add a pattern. The first argument is a unique ID to identify which pattern was matched. The second argument is an optional callback. We don't need one here, so we set it to None. The third argument is the pattern.\n",
        "\n",
        "To match the pattern on a text, we can call the matcher on any doc.\n",
        "\n",
        "This will return the matches."
      ]
    },
    {
      "cell_type": "code",
      "metadata": {
        "id": "MA3D7faNH7Tr"
      },
      "source": [
        "# import spacy library and Matcher\n",
        "import spacy\n",
        "from spacy.matcher import Matcher\n",
        "\n",
        "# load the model\n",
        "nlp = spacy.load(\"en_core_web_sm\")\n",
        "\n",
        "# Initiate the Matcher object\n",
        "matcher = Matcher(nlp.vocab)\n",
        "\n",
        "# Add the pattern\n",
        "pattern = [{\"Text\":\"iPhone\"}, {\"Text\":\"X\"}]\n",
        "matcher.add(\"IPHONE_PATTERN\", None, pattern)\n",
        "\n",
        "# Process some text\n",
        "doc = nlp(\"Upcoming iPhone X release date leaked\")\n",
        "\n",
        "matches = matcher(doc)"
      ],
      "execution_count": null,
      "outputs": []
    },
    {
      "cell_type": "code",
      "metadata": {
        "colab": {
          "base_uri": "https://localhost:8080/"
        },
        "id": "NlNZ-pN9TLw5",
        "outputId": "e5054df1-0818-4815-bc94-fc8eddd350d5"
      },
      "source": [
        "matches"
      ],
      "execution_count": null,
      "outputs": [
        {
          "output_type": "execute_result",
          "data": {
            "text/plain": [
              "[(9528407286733565721, 1, 3)]"
            ]
          },
          "metadata": {
            "tags": []
          },
          "execution_count": 5
        }
      ]
    },
    {
      "cell_type": "code",
      "metadata": {
        "colab": {
          "base_uri": "https://localhost:8080/"
        },
        "id": "gKwz8lQ7TNhZ",
        "outputId": "a3418428-1bb0-4973-f54c-223c7929b6af"
      },
      "source": [
        "doc = nlp(\"Upcoming iPhone X release date leaked\")\n",
        "matches = matcher(doc)\n",
        "\n",
        "# Iterate over the matches\n",
        "for match_id, start, end in matches:\n",
        "    # Get the matched span\n",
        "    matched_span = doc[start:end]\n",
        "    print(matched_span.text)"
      ],
      "execution_count": null,
      "outputs": [
        {
          "output_type": "stream",
          "text": [
            "iPhone X\n"
          ],
          "name": "stdout"
        }
      ]
    },
    {
      "cell_type": "code",
      "metadata": {
        "colab": {
          "base_uri": "https://localhost:8080/"
        },
        "id": "zXRUBk9UTeSu",
        "outputId": "027e9d59-9870-4c9f-c46b-c30ce91bca9f"
      },
      "source": [
        "import spacy\n",
        "from spacy.matcher import Matcher\n",
        "\n",
        "nlp = spacy.load(\"en_core_web_sm\")\n",
        "matcher = Matcher(nlp.vocab)\n",
        "\n",
        "doc = nlp(\n",
        "    \"After making the iOS update you won't notice a radical system-wide \"\n",
        "    \"redesign: nothing like the aesthetic upheaval we got with iOS 7. Most of \"\n",
        "    \"iOS 11's furniture remains the same as in iOS 10. But you will discover \"\n",
        "    \"some tweaks once you delve a little deeper.\"\n",
        ")\n",
        "\n",
        "# Write a pattern for full iOS versions (\"iOS 7\", \"iOS 11\", \"iOS 10\")\n",
        "pattern = [{\"TEXT\": \"iOS\"}, {\"IS_DIGIT\": True}]\n",
        "\n",
        "# Add the pattern to the matcher and apply the matcher to the doc\n",
        "matcher.add(\"IOS_VERSION_PATTERN\", None, pattern)\n",
        "matches = matcher(doc)\n",
        "print(\"Total matches found:\", len(matches))\n",
        "\n",
        "# Iterate over the matches and print the span text\n",
        "for match_id, start, end in matches:\n",
        "    print(\"Match found:\", doc[start:end].text)"
      ],
      "execution_count": null,
      "outputs": [
        {
          "output_type": "stream",
          "text": [
            "Total matches found: 3\n",
            "Match found: iOS 7\n",
            "Match found: iOS 11\n",
            "Match found: iOS 10\n"
          ],
          "name": "stdout"
        }
      ]
    },
    {
      "cell_type": "code",
      "metadata": {
        "colab": {
          "base_uri": "https://localhost:8080/"
        },
        "id": "4MGUo60kUHVi",
        "outputId": "f1f1421e-3c51-4b78-a328-4b25a0117623"
      },
      "source": [
        "import spacy\n",
        "from spacy.matcher import Matcher\n",
        "\n",
        "nlp = spacy.load(\"en_core_web_sm\")\n",
        "matcher = Matcher(nlp.vocab)\n",
        "\n",
        "doc = nlp(\n",
        "    \"i downloaded Fortnite on my laptop and can't open the game at all. Help? \"\n",
        "    \"so when I was downloading Minecraft, I got the Windows version where it \"\n",
        "    \"is the '.zip' folder and I used the default program to unpack it... do \"\n",
        "    \"I also need to download Winzip?\"\n",
        ")\n",
        "\n",
        "# Write a pattern that matches a form of \"download\" plus proper noun\n",
        "pattern = [{\"LEMMA\": \"download\"}, {\"POS\": \"PROPN\"}]\n",
        "\n",
        "# Add the pattern to the matcher and apply the matcher to the doc\n",
        "matcher.add(\"DOWNLOAD_THINGS_PATTERN\", None, pattern)\n",
        "matches = matcher(doc)\n",
        "print(\"Total matches found:\", len(matches))\n",
        "\n",
        "# Iterate over the matches and print the span text\n",
        "for match_id, start, end in matches:\n",
        "    print(\"Match found:\", doc[start:end].text)"
      ],
      "execution_count": null,
      "outputs": [
        {
          "output_type": "stream",
          "text": [
            "Total matches found: 3\n",
            "Match found: downloaded Fortnite\n",
            "Match found: downloading Minecraft\n",
            "Match found: download Winzip\n"
          ],
          "name": "stdout"
        }
      ]
    },
    {
      "cell_type": "code",
      "metadata": {
        "id": "3EGoxawzUN0p"
      },
      "source": [
        ""
      ],
      "execution_count": null,
      "outputs": []
    }
  ]
}